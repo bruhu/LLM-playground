{
 "cells": [
  {
   "cell_type": "code",
   "execution_count": 1,
   "metadata": {},
   "outputs": [],
   "source": [
    "# !pip install openai"
   ]
  },
  {
   "cell_type": "code",
   "execution_count": 10,
   "metadata": {},
   "outputs": [],
   "source": [
    "from openai import OpenAI\n",
    "import base64\n",
    "import json"
   ]
  },
  {
   "cell_type": "code",
   "execution_count": 3,
   "metadata": {},
   "outputs": [],
   "source": [
    "client = OpenAI()"
   ]
  },
  {
   "cell_type": "code",
   "execution_count": 4,
   "metadata": {},
   "outputs": [],
   "source": [
    "SYSTEM_PROMPT = \"\"\"\n",
    "Talk to the user as if they were a pirate.\n",
    "\"\"\""
   ]
  },
  {
   "cell_type": "markdown",
   "metadata": {},
   "source": [
    "#### The Basics\n"
   ]
  },
  {
   "cell_type": "code",
   "execution_count": 5,
   "metadata": {},
   "outputs": [
    {
     "name": "stdout",
     "output_type": "stream",
     "text": [
      "ChatCompletionMessage(content='Crimson waves do crash,  \\nRuby sunsets kiss the sky,  \\nHeart of bold adventure.', refusal=None, role='assistant', audio=None, function_call=None, tool_calls=None)\n"
     ]
    },
    {
     "data": {
      "text/plain": [
       "'Crimson waves do crash,  \\nRuby sunsets kiss the sky,  \\nHeart of bold adventure.'"
      ]
     },
     "execution_count": 5,
     "metadata": {},
     "output_type": "execute_result"
    }
   ],
   "source": [
    "completion = client.chat.completions.create(\n",
    "    model=\"gpt-4o-mini\",\n",
    "    messages=[\n",
    "        {\"role\": \"system\", \"content\": SYSTEM_PROMPT},\n",
    "        {\n",
    "            \"role\": \"user\",\n",
    "            \"content\": \"Write a haiku about the color red.\"\n",
    "        }\n",
    "    ]\n",
    ")\n",
    "\n",
    "print(completion.choices[0].message)\n",
    "completion.choices[0].message.content"
   ]
  },
  {
   "cell_type": "markdown",
   "metadata": {},
   "source": [
    "#### Function Calling"
   ]
  },
  {
   "cell_type": "code",
   "execution_count": 9,
   "metadata": {},
   "outputs": [
    {
     "name": "stdout",
     "output_type": "stream",
     "text": [
      "[ChatCompletionMessageToolCall(id='call_OlIcXUYqhL9SvMiKHRkXtOmj', function=Function(arguments='{\"location\":\"Berlin\"}', name='get_weather'), type='function')]\n"
     ]
    }
   ],
   "source": [
    "tools = [\n",
    "  {\n",
    "      \"type\": \"function\",\n",
    "      \"function\": {\n",
    "          \"name\": \"get_weather\",\n",
    "          \"parameters\": {\n",
    "              \"type\": \"object\",\n",
    "              \"properties\": {\n",
    "                  \"location\": {\"type\": \"string\"}\n",
    "              },\n",
    "          },\n",
    "      },\n",
    "  }\n",
    "]\n",
    "\n",
    "completion = client.chat.completions.create(\n",
    "  model=\"gpt-4o-mini\",\n",
    "  messages=[{\"role\": \"user\", \"content\": \"What's the weather like in Berlin today?\"}],\n",
    "  tools=tools,\n",
    ")\n",
    "\n",
    "print(completion.choices[0].message.tool_calls)\n",
    "completion.choices[0].message.content\n"
   ]
  },
  {
   "cell_type": "markdown",
   "metadata": {},
   "source": [
    "#### With Vision 👀"
   ]
  },
  {
   "cell_type": "code",
   "execution_count": 8,
   "metadata": {},
   "outputs": [
    {
     "data": {
      "text/plain": [
       "\"Arrr, matey! What ye be lookin' at be a mighty fine sight! A vast expanse o' frozen treasure, blanketed by a shroud o' white snow, ‘n surrounded by grand mountains standin' tall like the fierce crew o' a pirate ship! The sky be grumblin' with dark clouds, like a storm brewin' on the horizon. \\n\\nAye, that icy lake be holdin' secrets beneath its frosty surface! The jagged peaks be kissin' the heavens, while the chill o’ the air cuts sharper than a cutlass! So gather yer crew, and set sail on the adventure o’ nature, fer it be a wild world out there, full o’ wonders awaitin' to be discovered!\""
      ]
     },
     "execution_count": 8,
     "metadata": {},
     "output_type": "execute_result"
    }
   ],
   "source": [
    "# Function to encode the image\n",
    "def encode_image(image_path):\n",
    "    with open(image_path, \"rb\") as image_file:\n",
    "        return base64.b64encode(image_file.read()).decode(\"utf-8\")\n",
    "\n",
    "\n",
    "# Path to your image\n",
    "image_path = \"../assets/cole-mader-9WV1S3JsWm8-unsplash.jpg\"\n",
    "\n",
    "# Getting the base64 string\n",
    "base64_image = encode_image(image_path)\n",
    "\n",
    "response = client.chat.completions.create(\n",
    "    model=\"gpt-4o-mini\",\n",
    "    messages=[\n",
    "        {\n",
    "            \"role\": \"user\",\n",
    "            \"content\": [\n",
    "                {\n",
    "                    \"type\": \"text\",\n",
    "                    \"text\": \"What is in this image?\",\n",
    "                },\n",
    "                {\n",
    "                    \"type\": \"image_url\",\n",
    "                    \"image_url\": {\"url\": f\"data:image/jpeg;base64,{base64_image}\"},\n",
    "                },\n",
    "            ],\n",
    "        }\n",
    "    ],\n",
    ")\n",
    "\n",
    "# print(response.choices[0])\n",
    "response.choices[0].message.content\n"
   ]
  },
  {
   "cell_type": "code",
   "execution_count": 18,
   "metadata": {},
   "outputs": [
    {
     "name": "stdout",
     "output_type": "stream",
     "text": [
      "Tool call object: ChatCompletionMessageToolCall(id='call_ZpesBJhhmfq7DnjjD64yNU2m', function=Function(arguments='{\"song_name\":\"Last Christmas\"}', name='get_recommendations'), type='function')\n",
      "Tool call does not have 'arguments' attribute.\n"
     ]
    }
   ],
   "source": [
    "# Define the tools with the expected parameters\n",
    "tools = [\n",
    "    {\n",
    "        \"type\": \"function\",\n",
    "        \"function\": {\n",
    "            \"name\": \"get_recommendations\",\n",
    "            \"description\": \"Get recommendations for a song given a song the user likes\",\n",
    "            \"parameters\": {\n",
    "                \"type\": \"object\",\n",
    "                \"properties\": {\n",
    "                    \"song_name\": {\"type\": \"string\"}\n",
    "                },\n",
    "                \"required\": [\"song_name\"]\n",
    "            }\n",
    "        }\n",
    "    }\n",
    "]\n",
    "\n",
    "# Example message to send to the model\n",
    "messages = [\n",
    "    {\"role\": \"user\", \"content\": \"Can you recommend a song for me? I like 'Last Christmas' by Wham!\"}\n",
    "]\n",
    "\n",
    "# Make the API call\n",
    "completion = client.chat.completions.create(\n",
    "    model=\"gpt-4o-mini\",\n",
    "    messages=messages,\n",
    "    tools=tools,\n",
    ")\n",
    "\n",
    "# Capture the assistant's message\n",
    "assistant_message = completion.choices[0].message  # Ensure this line captures the assistant's message\n",
    "\n",
    "# Process tool calls if they exist\n",
    "if hasattr(assistant_message, 'tool_calls'):\n",
    "    for tool_call in assistant_message.tool_calls:\n",
    "        print(\"Tool call object:\", tool_call)  # Inspect the tool_call structure\n",
    "        \n",
    "        # Check if the tool_call has the 'arguments' attribute\n",
    "        if hasattr(tool_call, 'arguments'):\n",
    "            arguments = tool_call.arguments\n",
    "            print(\"Tool call arguments:\", arguments)  # Access the arguments directly\n",
    "            \n",
    "            # Example of how to use the arguments\n",
    "            if 'song_name' in arguments:\n",
    "                song_name = arguments['song_name']\n",
    "                print(f\"Recommended song based on user input: {song_name}\")\n",
    "        else:\n",
    "            print(\"Tool call does not have 'arguments' attribute.\")\n",
    "else:\n",
    "    print(\"No tool calls found in the assistant's message.\")"
   ]
  },
  {
   "cell_type": "code",
   "execution_count": null,
   "metadata": {},
   "outputs": [],
   "source": []
  }
 ],
 "metadata": {
  "kernelspec": {
   "display_name": "venv",
   "language": "python",
   "name": "python3"
  },
  "language_info": {
   "codemirror_mode": {
    "name": "ipython",
    "version": 3
   },
   "file_extension": ".py",
   "mimetype": "text/x-python",
   "name": "python",
   "nbconvert_exporter": "python",
   "pygments_lexer": "ipython3",
   "version": "3.12.3"
  }
 },
 "nbformat": 4,
 "nbformat_minor": 2
}
