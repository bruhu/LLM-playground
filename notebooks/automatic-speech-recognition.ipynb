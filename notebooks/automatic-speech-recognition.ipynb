{
 "cells": [
  {
   "cell_type": "markdown",
   "metadata": {},
   "source": [
    "#### Automatic Speech Recognition"
   ]
  },
  {
   "cell_type": "code",
   "execution_count": null,
   "metadata": {},
   "outputs": [],
   "source": [
    "# !pip install torchaudio\n",
    "# !pip install soundfile"
   ]
  },
  {
   "cell_type": "code",
   "execution_count": null,
   "metadata": {},
   "outputs": [],
   "source": [
    "from transformers import pipeline\n",
    "import torchaudio\n",
    "\n",
    "# Load the speech recognition pipeline\n",
    "speech_recognition = pipeline(\"automatic-speech-recognition\", model=\"facebook/wav2vec2-large-960h\")\n",
    "\n",
    "# Function to transcribe audio to text\n",
    "def transcribe_audio(file_path):\n",
    "    # Load audio file\n",
    "    audio_input, _ = torchaudio.load(file_path)\n",
    "    \n",
    "    # Use the model to transcribe the audio\n",
    "    transcription = speech_recognition(audio_input)\n",
    "    \n",
    "    return transcription['text']\n",
    "\n",
    "# Example usage\n",
    "audio_file = \"path_to_your_audio_file.wav\"\n",
    "transcription = transcribe_audio(audio_file)\n",
    "print(\"Transcription:\", transcription)\n"
   ]
  }
 ],
 "metadata": {
  "kernelspec": {
   "display_name": "venv",
   "language": "python",
   "name": "python3"
  },
  "language_info": {
   "codemirror_mode": {
    "name": "ipython",
    "version": 3
   },
   "file_extension": ".py",
   "mimetype": "text/x-python",
   "name": "python",
   "nbconvert_exporter": "python",
   "pygments_lexer": "ipython3",
   "version": "3.12.3"
  }
 },
 "nbformat": 4,
 "nbformat_minor": 2
}
