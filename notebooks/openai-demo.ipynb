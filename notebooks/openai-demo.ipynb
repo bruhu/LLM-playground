{
 "cells": [
  {
   "cell_type": "code",
   "execution_count": null,
   "metadata": {},
   "outputs": [
    {
     "ename": "",
     "evalue": "",
     "output_type": "error",
     "traceback": [
      "\u001b[1;31mFailed to start the Kernel. \n",
      "\u001b[1;31mThe kernel died. Error: ... View Jupyter <a href='command:jupyter.viewOutput'>log</a> for further details."
     ]
    }
   ],
   "source": [
    "!pip install openai"
   ]
  },
  {
   "cell_type": "code",
   "execution_count": 36,
   "metadata": {},
   "outputs": [],
   "source": [
    "SYSTEM_PROMPT = \"\"\"\n",
    "You are a helpful assistant. You have access to a database of information on a company called XYZ. You are an expert data analyst capable of answering questions about the company and generating SQL queries to retrieve data from the database.\n",
    "\"\"\""
   ]
  },
  {
   "cell_type": "code",
   "execution_count": 8,
   "metadata": {},
   "outputs": [
    {
     "data": {
      "text/plain": [
       "Choice(finish_reason='stop', index=0, logprobs=None, message=ChatCompletionMessage(content='<assistant>\\n    Arrr matey! Gather \\'round for a tale of high seas and treasure! \\n\\n    Once upon a tide, there be a cunning pirate named Captain Flint. He sailed the notorious ship, The Reckless Wave, with a crew as fierce as the stormy seas. One fateful day, while chartin\\' a course through the treacherous Water\\'s Teeth, Flint discovered a map, etched in the blood of his enemies, leadin\\' to the fabled Isle of Gold. \\n\\n    With a hearty \"Yo ho!\" he rallied his crew, embarkin\\' on a quest that would take \\'em through whirlpools and past sirens singin\\' their sweet songs. After many a battle and a barrel of rum, they finally reached the isle, only to be met by a fearsome guardian—an enormous sea serpent! \\n\\n    But Captain Flint, clever as a fox, challenged the beast to a riddle contest. If he could solve a riddle, the treasure would be his! With his crew holdin\\' their breath, Flint answered the serpent\\'s tricky questions, and with a final clever word, he claimed victory. \\n\\n    The serpent, grudgingly impressed, led the way to the hidden treasure, where gold and jewels sparkled brighter than the stars above. Captain Flint and his crew returned to the seas, richer than any pirate had ever dreamed, tellin\\' tales of their daring escapade for all eternity!\\n\\n    And that\\'s the end of our tale, me hearty! Now, what other treasures do ye seek? \\n</assistant>', refusal=None, role='assistant', audio=None, function_call=None, tool_calls=None))"
      ]
     },
     "execution_count": 8,
     "metadata": {},
     "output_type": "execute_result"
    }
   ],
   "source": [
    "from openai import OpenAI\n",
    "client = OpenAI()\n",
    "\n",
    "completion = client.chat.completions.create(\n",
    "    model=\"gpt-4o-mini\",\n",
    "    messages=[\n",
    "        {   \"role\": \"system\", \"content\": SYSTEM_PROMPT},\n",
    "        {\n",
    "            \"role\": \"user\",\n",
    "            \"content\": \"Tell me a short story\"\n",
    "        }\n",
    "    ]\n",
    ")\n",
    "\n",
    "completion.choices[0]"
   ]
  },
  {
   "cell_type": "code",
   "execution_count": 38,
   "metadata": {},
   "outputs": [
    {
     "name": "stdout",
     "output_type": "stream",
     "text": [
      "First assistant message:  ChatCompletionMessage(content=None, refusal=None, role='assistant', audio=None, function_call=None, tool_calls=[ChatCompletionMessageToolCall(id='call_jToudRdc4mmtjBNF4MzFs405', function=Function(arguments='{\"location\":\"Barcelona\"}', name='get_weather'), type='function')])\n",
      "[{'role': 'system', 'content': '\\nYou are a helpful assistant. You have access to a database of information on a company called XYZ. You are an expert data analyst capable of answering questions about the company and generating SQL queries to retrieve data from the database.\\n'}, {'role': 'user', 'content': 'Is it going to rain in Barcelona today?'}, {'role': 'assistant', 'content': 'The weather in Barcelona is sunny and 22°C'}]\n"
     ]
    }
   ],
   "source": [
    "from openai import OpenAI\n",
    "import json\n",
    "\n",
    "client = OpenAI()\n",
    "\n",
    "def get_weather(location):\n",
    "    # Mock weather function\n",
    "    return f\"The weather in {location} is sunny and 22°C\"\n",
    "\n",
    "def get_recommendation(song_name):\n",
    "    # Call the recommend function we developed last week\n",
    "    return f\"If you like {song_name}, I think you will also like Don't Stop Me Now by Queen\"\n",
    "\n",
    "def get_data(sql_query):\n",
    "    # Mock data function\n",
    "    return f\"The data requested is 1000 rows.\"\n",
    "\n",
    "\n",
    "tools = [\n",
    "    {\n",
    "        \"type\": \"function\",\n",
    "        \"function\": {\n",
    "            \"name\": \"get_weather\",\n",
    "            \"description\": \"Get the weather in a given location\",\n",
    "            \"parameters\": {\n",
    "                \"type\": \"object\",\n",
    "                \"properties\": {\n",
    "                    \"location\": {\"type\": \"string\"}\n",
    "                },\n",
    "                \"required\": [\"location\"]\n",
    "            },\n",
    "        },\n",
    "    },\n",
    "    {\n",
    "        \"type\": \"function\",\n",
    "        \"function\": {\n",
    "            \"name\": \"get_recommendation\",\n",
    "            \"description\": \"Get a song recommendation given a song the user likes\",\n",
    "            \"parameters\": {\n",
    "                \"type\": \"object\",\n",
    "                \"properties\": {\n",
    "                    \"song_name\": {\"type\": \"string\"}\n",
    "                },\n",
    "                \"required\": [\"song_name\"]\n",
    "            },\n",
    "        },\n",
    "    },\n",
    "        {\n",
    "        \"type\": \"function\",\n",
    "        \"function\": {\n",
    "            \"name\": \"get_data\",\n",
    "            \"description\": \"Get data from a database\",\n",
    "            \"parameters\": {\n",
    "                \"type\": \"object\",\n",
    "                \"properties\": {\n",
    "                    \"sql_query\": {\"type\": \"string\"}\n",
    "                },\n",
    "                \"required\": [\"sql_query\"]\n",
    "            },\n",
    "        },\n",
    "    }\n",
    "]\n",
    "\n",
    "# Initial message from user\n",
    "messages = [{\"role\": \"system\", \"content\": SYSTEM_PROMPT},\n",
    "            {\"role\": \"user\", \"content\": \"Is it going to rain in Barcelona today?\"}]\n",
    "\n",
    "# First call to get the assistant's response with tool calls\n",
    "completion = client.chat.completions.create(\n",
    "    model=\"gpt-4o-mini\",\n",
    "    messages=messages,\n",
    "    tools=tools\n",
    ")\n",
    "\n",
    "# Get the assistant's message\n",
    "assistant_message = completion.choices[0].message\n",
    "\n",
    "print(\"First assistant message: \", assistant_message)\n",
    "\n",
    "# Check if the response contains a tool call\n",
    "if assistant_message.tool_calls:\n",
    "    # Process each tool call\n",
    "    for tool_call in assistant_message.tool_calls:\n",
    "        # Get the tool call arguments\n",
    "        tool_call_arguments = json.loads(tool_call.function.arguments)\n",
    "        \n",
    "        # Call the tool\n",
    "        if tool_call.function.name == \"get_weather\":\n",
    "            weather = get_weather(tool_call_arguments[\"location\"])\n",
    "            \n",
    "            # Append the tool response to messages\n",
    "            messages.append({\n",
    "                \"role\": \"assistant\",\n",
    "                \"content\":  str(weather)\n",
    "            })\n",
    "        if tool_call.function.name == \"get_recommendation\":\n",
    "            song_recommendation = get_recommendation(tool_call_arguments[\"song_name\"])\n",
    "            # Append the tool response to messages\n",
    "            messages.append({\n",
    "                \"role\": \"assistant\",\n",
    "                \"content\":  str(song_recommendation)\n",
    "            })\n",
    "        if tool_call.function.name == \"get_data\":\n",
    "            data = get_data(tool_call_arguments[\"sql_query\"])\n",
    "            # Append the tool response to messages\n",
    "            messages.append({\n",
    "                \"role\": \"assistant\",\n",
    "                \"content\":  str(data)\n",
    "            })\n",
    "            \n",
    "print(messages)"
   ]
  },
  {
   "cell_type": "markdown",
   "metadata": {},
   "source": [
    "First assistant message:  ChatCompletionMessage(content=None, refusal=None, role='assistant', audio=None, function_call=None, tool_calls=[ChatCompletionMessageToolCall(id='call_jToudRdc4mmtjBNF4MzFs405', function=Function(arguments='{\"location\":\"Barcelona\"}', name='get_weather'), type='function')])\n"
   ]
  },
  {
   "cell_type": "markdown",
   "metadata": {},
   "source": [
    "First assistant message:  \n",
    "ChatCompletionMessage(content=None, refusal=None, role='assistant', audio=None, function_call=None, tool_calls=[ChatCompletionMessageToolCall(id='call_dgJ5mXLRCR2o4F4c5LdB8HHA', function=Function(arguments='{\"sql_query\":\"SELECT COUNT(*) FROM users;\"}', name='get_data'), type='function')])\n",
    "\n",
    "[{'role': 'system', 'content': '\\nYou are a helpful assistant. You have access to a database of information on a company called XYZ. You are an expert data analyst capable of answering questions about the company and generating SQL queries to retrieve data from the database.\\n'}, {'role': 'user', 'content': \"Can you get me the number of rows in the table 'users'?\"}, {'role': 'assistant', 'content': 'The data requested is 1000 rows.'}]\n"
   ]
  },
  {
   "cell_type": "markdown",
   "metadata": {},
   "source": [
    "First assistant message:  ChatCompletionMessage(content='The title of \"best football player in the world\" is subjective and often debated among fans and experts. As of my last update, Lionel Messi and Cristiano Ronaldo were frequently highlighted in discussions about the greatest players of all time. However, in recent years, players like Kylian Mbappé, Erling Haaland, and Robert Lewandowski have also gained recognition for their remarkable performances.\\n\\nAwards like the FIFA Ballon d\\'Or and The Best FIFA Men\\'s Player often reflect who is considered the best in any given year, but opinions may vary based on personal preferences and recent performances.', refusal=None, role='assistant', audio=None, function_call=None, tool_calls=None)\n"
   ]
  },
  {
   "cell_type": "markdown",
   "metadata": {},
   "source": [
    "First assistant message:  ChatCompletionMessage(content=None, refusal=None, role='assistant', audio=None, function_call=None, tool_calls=[ChatCompletionMessageToolCall(id='call_bk2HzWpPMp7ssgKIBBM5YyKR', function=Function(arguments='{\"song_name\":\"Shape of You\"}', name='get_recommendation'), type='function')])\n",
    "\n",
    "[{'role': 'user', 'content': \"Can you recommend a song for me? I like the song 'Shape of You' by Ed Sheeran.\"}]\n"
   ]
  },
  {
   "cell_type": "markdown",
   "metadata": {},
   "source": [
    "We ask: \n",
    "{\"role\": \"user\", \"content\": \"Whats the weather like in Paris today?\"}\n",
    "\n",
    "Assistant invokes tool:\n",
    "ChatCompletionMessage(content=None, refusal=None, role='assistant', audio=None, function_call=None, tool_calls=[ChatCompletionMessageToolCall(id='call_6dcPb92XZR8RvjTZ4sTEII0h', function=Function(arguments='{\"location\":\"Paris\"}', name='get_weather'), type='function')])\n",
    "\n",
    "Tool returns:\n",
    "{'role': 'assistant', 'content': 'The weather in Paris is sunny and 22°C'}\n"
   ]
  }
 ],
 "metadata": {
  "kernelspec": {
   "display_name": ".venv",
   "language": "python",
   "name": "python3"
  },
  "language_info": {
   "codemirror_mode": {
    "name": "ipython",
    "version": 3
   },
   "file_extension": ".py",
   "mimetype": "text/x-python",
   "name": "python",
   "nbconvert_exporter": "python",
   "pygments_lexer": "ipython3",
   "version": "3.12.7"
  }
 },
 "nbformat": 4,
 "nbformat_minor": 2
}
